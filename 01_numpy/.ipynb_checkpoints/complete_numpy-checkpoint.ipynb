{
 "cells": [
  {
   "cell_type": "markdown",
   "id": "0eb494b7",
   "metadata": {},
   "source": [
    "# The Power of NumPY"
   ]
  },
  {
   "cell_type": "code",
   "execution_count": 1,
   "id": "fd929723",
   "metadata": {},
   "outputs": [
    {
     "data": {
      "text/plain": [
       "range(0, 5)"
      ]
     },
     "execution_count": 1,
     "metadata": {},
     "output_type": "execute_result"
    }
   ],
   "source": [
    "range(0, 5)"
   ]
  },
  {
   "cell_type": "code",
   "execution_count": 2,
   "id": "cbfe3ea9",
   "metadata": {},
   "outputs": [
    {
     "data": {
      "text/plain": [
       "[0, 1, 2, 3, 4]"
      ]
     },
     "execution_count": 2,
     "metadata": {},
     "output_type": "execute_result"
    }
   ],
   "source": [
    "list(range(0, 5))"
   ]
  },
  {
   "cell_type": "code",
   "execution_count": 3,
   "id": "bac432b6",
   "metadata": {},
   "outputs": [
    {
     "data": {
      "text/plain": [
       "[0, 2, 4]"
      ]
     },
     "execution_count": 3,
     "metadata": {},
     "output_type": "execute_result"
    }
   ],
   "source": [
    "list(range(0, 5, 2))"
   ]
  },
  {
   "cell_type": "code",
   "execution_count": 4,
   "id": "acb56640",
   "metadata": {},
   "outputs": [],
   "source": [
    "list1 = [1, 3, 5, 7, 9]\n",
    "list2 = [2, 4, 6, 8, 10]"
   ]
  },
  {
   "cell_type": "code",
   "execution_count": 5,
   "id": "d0ac6eb1",
   "metadata": {},
   "outputs": [
    {
     "ename": "TypeError",
     "evalue": "can't multiply sequence by non-int of type 'list'",
     "output_type": "error",
     "traceback": [
      "\u001b[1;31m---------------------------------------------------------------------------\u001b[0m",
      "\u001b[1;31mTypeError\u001b[0m                                 Traceback (most recent call last)",
      "Cell \u001b[1;32mIn[5], line 1\u001b[0m\n\u001b[1;32m----> 1\u001b[0m list1 \u001b[38;5;241m*\u001b[39m list2\n",
      "\u001b[1;31mTypeError\u001b[0m: can't multiply sequence by non-int of type 'list'"
     ]
    }
   ],
   "source": [
    "list1 * list2"
   ]
  },
  {
   "cell_type": "code",
   "execution_count": 6,
   "id": "d8ef54c2",
   "metadata": {},
   "outputs": [
    {
     "name": "stdout",
     "output_type": "stream",
     "text": [
      "[2, 12, 30, 56, 90]\n"
     ]
    }
   ],
   "source": [
    "new_list = []\n",
    "\n",
    "for i in range(0, len(list1)):\n",
    "    x = list1[i] * list2[i]\n",
    "    new_list.append(x)\n",
    "    \n",
    "print(new_list)"
   ]
  },
  {
   "cell_type": "code",
   "execution_count": 7,
   "id": "168abe33",
   "metadata": {},
   "outputs": [],
   "source": [
    "import numpy as np"
   ]
  },
  {
   "cell_type": "code",
   "execution_count": 8,
   "id": "a8c0337f",
   "metadata": {},
   "outputs": [],
   "source": [
    "x = np.array([1, 3, 5, 7, 9])\n",
    "y = np.array([2, 4, 6, 8, 10])"
   ]
  },
  {
   "cell_type": "code",
   "execution_count": 9,
   "id": "817f8902",
   "metadata": {},
   "outputs": [
    {
     "name": "stdout",
     "output_type": "stream",
     "text": [
      "<class 'numpy.ndarray'>\n"
     ]
    }
   ],
   "source": [
    "print(type(x))"
   ]
  },
  {
   "cell_type": "code",
   "execution_count": 10,
   "id": "21ecf944",
   "metadata": {},
   "outputs": [
    {
     "data": {
      "text/plain": [
       "array([ 2, 12, 30, 56, 90])"
      ]
     },
     "execution_count": 10,
     "metadata": {},
     "output_type": "execute_result"
    }
   ],
   "source": [
    "x * y"
   ]
  },
  {
   "cell_type": "markdown",
   "id": "ff0aa571",
   "metadata": {},
   "source": [
    "# Creating NumPy Array with the Array() Method"
   ]
  },
  {
   "cell_type": "code",
   "execution_count": 11,
   "id": "268636b5",
   "metadata": {},
   "outputs": [],
   "source": [
    "import numpy as np"
   ]
  },
  {
   "cell_type": "code",
   "execution_count": 12,
   "id": "ec3ef1f4",
   "metadata": {},
   "outputs": [
    {
     "data": {
      "text/plain": [
       "array([2, 4, 6, 8])"
      ]
     },
     "execution_count": 12,
     "metadata": {},
     "output_type": "execute_result"
    }
   ],
   "source": [
    "np.array([2, 4, 6, 8])"
   ]
  },
  {
   "cell_type": "code",
   "execution_count": 13,
   "id": "221032ac",
   "metadata": {},
   "outputs": [],
   "source": [
    "variable = [5.8, 9, 7, 5]"
   ]
  },
  {
   "cell_type": "code",
   "execution_count": 14,
   "id": "42bc8d5a",
   "metadata": {},
   "outputs": [
    {
     "name": "stdout",
     "output_type": "stream",
     "text": [
      "<class 'float'>\n",
      "<class 'int'>\n"
     ]
    }
   ],
   "source": [
    "print(type(variable[0]))\n",
    "print(type(variable[1]))"
   ]
  },
  {
   "cell_type": "code",
   "execution_count": 15,
   "id": "9acd260c",
   "metadata": {},
   "outputs": [],
   "source": [
    "new_variable = np.array([5.8, 9, 7, 5])"
   ]
  },
  {
   "cell_type": "code",
   "execution_count": 16,
   "id": "d966ef51",
   "metadata": {},
   "outputs": [
    {
     "name": "stdout",
     "output_type": "stream",
     "text": [
      "<class 'numpy.float64'>\n",
      "<class 'numpy.float64'>\n"
     ]
    }
   ],
   "source": [
    "print(type(new_variable[0]))\n",
    "print(type(new_variable[1]))"
   ]
  },
  {
   "cell_type": "code",
   "execution_count": 17,
   "id": "772c6e91",
   "metadata": {},
   "outputs": [
    {
     "data": {
      "text/plain": [
       "array([5.8, 9. , 7. , 5. ])"
      ]
     },
     "execution_count": 17,
     "metadata": {},
     "output_type": "execute_result"
    }
   ],
   "source": [
    "new_variable"
   ]
  },
  {
   "cell_type": "code",
   "execution_count": 18,
   "id": "9eebbeb0",
   "metadata": {},
   "outputs": [],
   "source": [
    "new_variable2 = np.array([5.8, 9, 7, 5], dtype = \"int\")"
   ]
  },
  {
   "cell_type": "code",
   "execution_count": 19,
   "id": "e414b32d",
   "metadata": {},
   "outputs": [
    {
     "data": {
      "text/plain": [
       "array([5, 9, 7, 5])"
      ]
     },
     "execution_count": 19,
     "metadata": {},
     "output_type": "execute_result"
    }
   ],
   "source": [
    "new_variable2"
   ]
  },
  {
   "cell_type": "markdown",
   "id": "ff4400ce",
   "metadata": {},
   "source": [
    "# Creating NumPy Array with the Zeros() Method"
   ]
  },
  {
   "cell_type": "code",
   "execution_count": 20,
   "id": "3d2294a6",
   "metadata": {},
   "outputs": [],
   "source": [
    "import numpy as np"
   ]
  },
  {
   "cell_type": "code",
   "execution_count": 21,
   "id": "8e4223cf",
   "metadata": {},
   "outputs": [
    {
     "data": {
      "text/plain": [
       "array([0., 0., 0., 0., 0.])"
      ]
     },
     "execution_count": 21,
     "metadata": {},
     "output_type": "execute_result"
    }
   ],
   "source": [
    "np.zeros(5)"
   ]
  },
  {
   "cell_type": "code",
   "execution_count": 22,
   "id": "df384e74",
   "metadata": {},
   "outputs": [
    {
     "data": {
      "text/plain": [
       "array([[0, 0, 0, 0, 0],\n",
       "       [0, 0, 0, 0, 0],\n",
       "       [0, 0, 0, 0, 0]])"
      ]
     },
     "execution_count": 22,
     "metadata": {},
     "output_type": "execute_result"
    }
   ],
   "source": [
    "np.zeros((3, 5), dtype = \"int\")"
   ]
  },
  {
   "cell_type": "markdown",
   "id": "0c85d2aa",
   "metadata": {},
   "source": [
    "# Creating NumPy Array with the Ones() Method"
   ]
  },
  {
   "cell_type": "code",
   "execution_count": 23,
   "id": "c2bfeaa4",
   "metadata": {},
   "outputs": [],
   "source": [
    "import numpy as np"
   ]
  },
  {
   "cell_type": "code",
   "execution_count": 24,
   "id": "459c8ee1",
   "metadata": {},
   "outputs": [
    {
     "data": {
      "text/plain": [
       "array([1., 1., 1., 1., 1., 1., 1., 1., 1., 1.])"
      ]
     },
     "execution_count": 24,
     "metadata": {},
     "output_type": "execute_result"
    }
   ],
   "source": [
    "np.ones(10)"
   ]
  },
  {
   "cell_type": "code",
   "execution_count": 25,
   "id": "36a43aad",
   "metadata": {},
   "outputs": [
    {
     "data": {
      "text/plain": [
       "array([[[1, 1, 1, 1, 1],\n",
       "        [1, 1, 1, 1, 1],\n",
       "        [1, 1, 1, 1, 1],\n",
       "        [1, 1, 1, 1, 1]],\n",
       "\n",
       "       [[1, 1, 1, 1, 1],\n",
       "        [1, 1, 1, 1, 1],\n",
       "        [1, 1, 1, 1, 1],\n",
       "        [1, 1, 1, 1, 1]],\n",
       "\n",
       "       [[1, 1, 1, 1, 1],\n",
       "        [1, 1, 1, 1, 1],\n",
       "        [1, 1, 1, 1, 1],\n",
       "        [1, 1, 1, 1, 1]]])"
      ]
     },
     "execution_count": 25,
     "metadata": {},
     "output_type": "execute_result"
    }
   ],
   "source": [
    "np.ones((3, 4, 5), dtype = \"int\")"
   ]
  },
  {
   "cell_type": "markdown",
   "id": "ba4293b2",
   "metadata": {},
   "source": [
    "# Creating NumPy Array with the Full() Method"
   ]
  },
  {
   "cell_type": "code",
   "execution_count": 26,
   "id": "af170b13",
   "metadata": {},
   "outputs": [],
   "source": [
    "import numpy as np"
   ]
  },
  {
   "cell_type": "code",
   "execution_count": 27,
   "id": "780119f5",
   "metadata": {},
   "outputs": [
    {
     "data": {
      "text/plain": [
       "array([5, 5, 5, 5, 5, 5, 5, 5])"
      ]
     },
     "execution_count": 27,
     "metadata": {},
     "output_type": "execute_result"
    }
   ],
   "source": [
    "np.full(8, 5)"
   ]
  },
  {
   "cell_type": "code",
   "execution_count": 28,
   "id": "8848f92c",
   "metadata": {},
   "outputs": [
    {
     "data": {
      "text/plain": [
       "array([[6., 6., 6.],\n",
       "       [6., 6., 6.]])"
      ]
     },
     "execution_count": 28,
     "metadata": {},
     "output_type": "execute_result"
    }
   ],
   "source": [
    "np.full((2, 3), 6, dtype = \"float\")"
   ]
  },
  {
   "cell_type": "markdown",
   "id": "4e04356c",
   "metadata": {},
   "source": [
    "# Creating NumPy Array with the Arange() Method"
   ]
  },
  {
   "cell_type": "code",
   "execution_count": 29,
   "id": "ffb19d39",
   "metadata": {},
   "outputs": [],
   "source": [
    "import numpy as np"
   ]
  },
  {
   "cell_type": "code",
   "execution_count": 30,
   "id": "44a7f17f",
   "metadata": {},
   "outputs": [
    {
     "data": {
      "text/plain": [
       "array([0, 1, 2, 3, 4])"
      ]
     },
     "execution_count": 30,
     "metadata": {},
     "output_type": "execute_result"
    }
   ],
   "source": [
    "np.arange(5)"
   ]
  },
  {
   "cell_type": "code",
   "execution_count": 31,
   "id": "34c5edd3",
   "metadata": {},
   "outputs": [],
   "source": [
    "example = np.arange(3, 10, dtype = \"float\")"
   ]
  },
  {
   "cell_type": "code",
   "execution_count": 32,
   "id": "6f391b7b",
   "metadata": {},
   "outputs": [
    {
     "name": "stdout",
     "output_type": "stream",
     "text": [
      "[3. 4. 5. 6. 7. 8. 9.]\n"
     ]
    }
   ],
   "source": [
    "print(example)"
   ]
  },
  {
   "cell_type": "code",
   "execution_count": 33,
   "id": "ebf5dd62",
   "metadata": {},
   "outputs": [
    {
     "data": {
      "text/plain": [
       "array([3., 4., 5., 6., 7., 8., 9.])"
      ]
     },
     "execution_count": 33,
     "metadata": {},
     "output_type": "execute_result"
    }
   ],
   "source": [
    "example"
   ]
  },
  {
   "cell_type": "markdown",
   "id": "5957b2b1",
   "metadata": {},
   "source": [
    "# Creating NumPy Array with the Eye() Method"
   ]
  },
  {
   "cell_type": "code",
   "execution_count": 34,
   "id": "13466e93",
   "metadata": {},
   "outputs": [],
   "source": [
    "import numpy as np"
   ]
  },
  {
   "cell_type": "code",
   "execution_count": 35,
   "id": "69b4037f",
   "metadata": {},
   "outputs": [
    {
     "data": {
      "text/plain": [
       "array([[1., 0., 0.],\n",
       "       [0., 1., 0.],\n",
       "       [0., 0., 1.]])"
      ]
     },
     "execution_count": 35,
     "metadata": {},
     "output_type": "execute_result"
    }
   ],
   "source": [
    "np.eye(3)"
   ]
  },
  {
   "cell_type": "code",
   "execution_count": 36,
   "id": "5333ff4b",
   "metadata": {},
   "outputs": [
    {
     "data": {
      "text/plain": [
       "array([[1., 0.],\n",
       "       [0., 1.],\n",
       "       [0., 0.]])"
      ]
     },
     "execution_count": 36,
     "metadata": {},
     "output_type": "execute_result"
    }
   ],
   "source": [
    "np.eye(3, 2)"
   ]
  },
  {
   "cell_type": "code",
   "execution_count": 37,
   "id": "f3e27e39",
   "metadata": {},
   "outputs": [
    {
     "data": {
      "text/plain": [
       "array([[ True, False],\n",
       "       [False,  True],\n",
       "       [False, False]])"
      ]
     },
     "execution_count": 37,
     "metadata": {},
     "output_type": "execute_result"
    }
   ],
   "source": [
    "np.eye(3, 2, dtype = \"bool\")"
   ]
  },
  {
   "cell_type": "markdown",
   "id": "5d13bf73",
   "metadata": {},
   "source": [
    "# Creating NumPy Array with the Linspace() Method"
   ]
  },
  {
   "cell_type": "code",
   "execution_count": 38,
   "id": "219715cd",
   "metadata": {},
   "outputs": [],
   "source": [
    "import numpy as np"
   ]
  },
  {
   "cell_type": "code",
   "execution_count": 39,
   "id": "cba8a2ad",
   "metadata": {},
   "outputs": [
    {
     "data": {
      "text/plain": [
       "array([10.        , 12.22222222, 14.44444444, 16.66666667, 18.88888889,\n",
       "       21.11111111, 23.33333333, 25.55555556, 27.77777778, 30.        ])"
      ]
     },
     "execution_count": 39,
     "metadata": {},
     "output_type": "execute_result"
    }
   ],
   "source": [
    "np.linspace(10, 30, 10)"
   ]
  },
  {
   "cell_type": "markdown",
   "id": "9a435e19",
   "metadata": {},
   "source": [
    "# Creating NumPy Array with the Random() Method"
   ]
  },
  {
   "cell_type": "code",
   "execution_count": 40,
   "id": "7d66b54e",
   "metadata": {},
   "outputs": [],
   "source": [
    "import numpy as np"
   ]
  },
  {
   "cell_type": "code",
   "execution_count": 41,
   "id": "7722f689",
   "metadata": {},
   "outputs": [
    {
     "data": {
      "text/plain": [
       "array([0.83581698, 0.36811102, 0.40562709, 0.03383633, 0.84538748])"
      ]
     },
     "execution_count": 41,
     "metadata": {},
     "output_type": "execute_result"
    }
   ],
   "source": [
    "# rand method\n",
    "np.random.rand(5)"
   ]
  },
  {
   "cell_type": "code",
   "execution_count": 42,
   "id": "5c41f249",
   "metadata": {},
   "outputs": [
    {
     "data": {
      "text/plain": [
       "array([[0.38059774, 0.99355331, 0.71911894],\n",
       "       [0.18989233, 0.32490133, 0.65526688]])"
      ]
     },
     "execution_count": 42,
     "metadata": {},
     "output_type": "execute_result"
    }
   ],
   "source": [
    "np.random.rand(2, 3)"
   ]
  },
  {
   "cell_type": "code",
   "execution_count": 43,
   "id": "f25feb9d",
   "metadata": {},
   "outputs": [
    {
     "data": {
      "text/plain": [
       "array([[20.05560919, 23.52275141, 15.34084506],\n",
       "       [27.70272321, 18.2045317 , 12.30539254],\n",
       "       [17.98201011, 22.83291014, 18.35153278],\n",
       "       [19.52650954, 23.08748435, 17.44552048]])"
      ]
     },
     "execution_count": 43,
     "metadata": {},
     "output_type": "execute_result"
    }
   ],
   "source": [
    "# random.normal method\n",
    "np.random.normal(20, 5, (4, 3))"
   ]
  },
  {
   "cell_type": "code",
   "execution_count": 44,
   "id": "4cfdd736",
   "metadata": {},
   "outputs": [
    {
     "data": {
      "text/plain": [
       "array([[7, 3, 3, 3],\n",
       "       [0, 6, 8, 6],\n",
       "       [5, 5, 7, 1],\n",
       "       [6, 4, 5, 5]])"
      ]
     },
     "execution_count": 44,
     "metadata": {},
     "output_type": "execute_result"
    }
   ],
   "source": [
    "# randint method\n",
    "np.random.randint(0, 10, (4, 4))"
   ]
  },
  {
   "cell_type": "markdown",
   "id": "ea6ab700",
   "metadata": {},
   "source": [
    "# Properties of NumPy Array"
   ]
  },
  {
   "cell_type": "code",
   "execution_count": 45,
   "id": "1702f8b6",
   "metadata": {},
   "outputs": [],
   "source": [
    "import numpy as np"
   ]
  },
  {
   "cell_type": "code",
   "execution_count": 46,
   "id": "e428a1b6",
   "metadata": {},
   "outputs": [],
   "source": [
    "matrix = np.random.randint(10, 50, (5, 4))"
   ]
  },
  {
   "cell_type": "code",
   "execution_count": 47,
   "id": "d5836d57",
   "metadata": {},
   "outputs": [
    {
     "data": {
      "text/plain": [
       "array([[44, 21, 16, 42],\n",
       "       [36, 19, 49, 16],\n",
       "       [27, 16, 20, 31],\n",
       "       [42, 39, 33, 43],\n",
       "       [28, 23, 15, 29]])"
      ]
     },
     "execution_count": 47,
     "metadata": {},
     "output_type": "execute_result"
    }
   ],
   "source": [
    "matrix"
   ]
  },
  {
   "cell_type": "code",
   "execution_count": 48,
   "id": "f2088b8e",
   "metadata": {},
   "outputs": [
    {
     "data": {
      "text/plain": [
       "2"
      ]
     },
     "execution_count": 48,
     "metadata": {},
     "output_type": "execute_result"
    }
   ],
   "source": [
    "matrix.ndim"
   ]
  },
  {
   "cell_type": "code",
   "execution_count": 49,
   "id": "dde1810c",
   "metadata": {},
   "outputs": [
    {
     "data": {
      "text/plain": [
       "(5, 4)"
      ]
     },
     "execution_count": 49,
     "metadata": {},
     "output_type": "execute_result"
    }
   ],
   "source": [
    "matrix.shape"
   ]
  },
  {
   "cell_type": "code",
   "execution_count": 50,
   "id": "c1a18732",
   "metadata": {},
   "outputs": [
    {
     "data": {
      "text/plain": [
       "20"
      ]
     },
     "execution_count": 50,
     "metadata": {},
     "output_type": "execute_result"
    }
   ],
   "source": [
    "matrix.size"
   ]
  },
  {
   "cell_type": "code",
   "execution_count": 51,
   "id": "aa7054cf",
   "metadata": {},
   "outputs": [
    {
     "data": {
      "text/plain": [
       "dtype('int32')"
      ]
     },
     "execution_count": 51,
     "metadata": {},
     "output_type": "execute_result"
    }
   ],
   "source": [
    "matrix.dtype"
   ]
  },
  {
   "cell_type": "markdown",
   "id": "56d9f93c",
   "metadata": {},
   "source": [
    "# Reshaping a NumPy Array: Reshape() Method"
   ]
  },
  {
   "cell_type": "code",
   "execution_count": 52,
   "id": "0ec85a01",
   "metadata": {},
   "outputs": [],
   "source": [
    "import numpy as np"
   ]
  },
  {
   "cell_type": "code",
   "execution_count": 53,
   "id": "c1d9a64d",
   "metadata": {},
   "outputs": [],
   "source": [
    "example = np.arange(1, 16)"
   ]
  },
  {
   "cell_type": "code",
   "execution_count": 54,
   "id": "1d4eae4a",
   "metadata": {},
   "outputs": [
    {
     "data": {
      "text/plain": [
       "array([ 1,  2,  3,  4,  5,  6,  7,  8,  9, 10, 11, 12, 13, 14, 15])"
      ]
     },
     "execution_count": 54,
     "metadata": {},
     "output_type": "execute_result"
    }
   ],
   "source": [
    "example"
   ]
  },
  {
   "cell_type": "code",
   "execution_count": 55,
   "id": "4ddd3c69",
   "metadata": {},
   "outputs": [],
   "source": [
    "array = example.reshape((3, 5))"
   ]
  },
  {
   "cell_type": "code",
   "execution_count": 56,
   "id": "7bc8335a",
   "metadata": {},
   "outputs": [
    {
     "data": {
      "text/plain": [
       "array([[ 1,  2,  3,  4,  5],\n",
       "       [ 6,  7,  8,  9, 10],\n",
       "       [11, 12, 13, 14, 15]])"
      ]
     },
     "execution_count": 56,
     "metadata": {},
     "output_type": "execute_result"
    }
   ],
   "source": [
    "array"
   ]
  },
  {
   "cell_type": "code",
   "execution_count": 57,
   "id": "286e55e7",
   "metadata": {},
   "outputs": [
    {
     "data": {
      "text/plain": [
       "1"
      ]
     },
     "execution_count": 57,
     "metadata": {},
     "output_type": "execute_result"
    }
   ],
   "source": [
    "example.ndim"
   ]
  },
  {
   "cell_type": "code",
   "execution_count": 58,
   "id": "16810995",
   "metadata": {},
   "outputs": [
    {
     "data": {
      "text/plain": [
       "2"
      ]
     },
     "execution_count": 58,
     "metadata": {},
     "output_type": "execute_result"
    }
   ],
   "source": [
    "array.ndim"
   ]
  },
  {
   "cell_type": "code",
   "execution_count": 59,
   "id": "e81fb9cf",
   "metadata": {},
   "outputs": [
    {
     "ename": "ValueError",
     "evalue": "cannot reshape array of size 15 into shape (4,3)",
     "output_type": "error",
     "traceback": [
      "\u001b[1;31m---------------------------------------------------------------------------\u001b[0m",
      "\u001b[1;31mValueError\u001b[0m                                Traceback (most recent call last)",
      "Cell \u001b[1;32mIn[59], line 1\u001b[0m\n\u001b[1;32m----> 1\u001b[0m example\u001b[38;5;241m.\u001b[39mreshape((\u001b[38;5;241m4\u001b[39m, \u001b[38;5;241m3\u001b[39m))\n",
      "\u001b[1;31mValueError\u001b[0m: cannot reshape array of size 15 into shape (4,3)"
     ]
    }
   ],
   "source": [
    "example.reshape((4, 3))"
   ]
  },
  {
   "cell_type": "markdown",
   "id": "6d08f05f",
   "metadata": {},
   "source": [
    "# Identifying the Largest Element of a NumPy Array: max(), argmax() methods"
   ]
  },
  {
   "cell_type": "code",
   "execution_count": 60,
   "id": "d278f810",
   "metadata": {},
   "outputs": [],
   "source": [
    "import numpy as np"
   ]
  },
  {
   "cell_type": "code",
   "execution_count": 61,
   "id": "b22f5d06",
   "metadata": {},
   "outputs": [
    {
     "data": {
      "text/plain": [
       "array([47, 25,  1, 10, 45, 31, 31, 27,  2,  9])"
      ]
     },
     "execution_count": 61,
     "metadata": {},
     "output_type": "execute_result"
    }
   ],
   "source": [
    "array = np.random.randint(0, 50, 10)\n",
    "array"
   ]
  },
  {
   "cell_type": "code",
   "execution_count": 62,
   "id": "bb7df029",
   "metadata": {},
   "outputs": [
    {
     "data": {
      "text/plain": [
       "47"
      ]
     },
     "execution_count": 62,
     "metadata": {},
     "output_type": "execute_result"
    }
   ],
   "source": [
    "array.max()"
   ]
  },
  {
   "cell_type": "code",
   "execution_count": 63,
   "id": "e1898b82",
   "metadata": {},
   "outputs": [
    {
     "data": {
      "text/plain": [
       "0"
      ]
     },
     "execution_count": 63,
     "metadata": {},
     "output_type": "execute_result"
    }
   ],
   "source": [
    "array.argmax()"
   ]
  },
  {
   "cell_type": "code",
   "execution_count": 64,
   "id": "74b6fd65",
   "metadata": {},
   "outputs": [
    {
     "data": {
      "text/plain": [
       "array([[ 4, 44, 30],\n",
       "       [13,  7, 29],\n",
       "       [15, 10, 49],\n",
       "       [16, 19, 25]])"
      ]
     },
     "execution_count": 64,
     "metadata": {},
     "output_type": "execute_result"
    }
   ],
   "source": [
    "array2 = np.random.randint(0, 50, (4, 3))\n",
    "array2"
   ]
  },
  {
   "cell_type": "code",
   "execution_count": 65,
   "id": "d3a29ded",
   "metadata": {},
   "outputs": [
    {
     "data": {
      "text/plain": [
       "49"
      ]
     },
     "execution_count": 65,
     "metadata": {},
     "output_type": "execute_result"
    }
   ],
   "source": [
    "array2.max()"
   ]
  },
  {
   "cell_type": "code",
   "execution_count": 66,
   "id": "4369fd4c",
   "metadata": {},
   "outputs": [
    {
     "data": {
      "text/plain": [
       "8"
      ]
     },
     "execution_count": 66,
     "metadata": {},
     "output_type": "execute_result"
    }
   ],
   "source": [
    "array2.argmax()"
   ]
  },
  {
   "cell_type": "markdown",
   "id": "fcf7ab74",
   "metadata": {},
   "source": [
    "# Detecting Least Element of NumPy Array: min(), argmin() methods"
   ]
  },
  {
   "cell_type": "code",
   "execution_count": 67,
   "id": "52fa4131",
   "metadata": {},
   "outputs": [
    {
     "data": {
      "text/plain": [
       "array([47, 65, 52, 44, 32, 59, 51, 45, 39, 47])"
      ]
     },
     "execution_count": 67,
     "metadata": {},
     "output_type": "execute_result"
    }
   ],
   "source": [
    "array = np.random.randint(20, 70, 10)\n",
    "array"
   ]
  },
  {
   "cell_type": "code",
   "execution_count": 68,
   "id": "419d2d9d",
   "metadata": {},
   "outputs": [
    {
     "data": {
      "text/plain": [
       "32"
      ]
     },
     "execution_count": 68,
     "metadata": {},
     "output_type": "execute_result"
    }
   ],
   "source": [
    "array.min()"
   ]
  },
  {
   "cell_type": "code",
   "execution_count": 69,
   "id": "23223923",
   "metadata": {},
   "outputs": [
    {
     "data": {
      "text/plain": [
       "4"
      ]
     },
     "execution_count": 69,
     "metadata": {},
     "output_type": "execute_result"
    }
   ],
   "source": [
    "array.argmin()"
   ]
  },
  {
   "cell_type": "code",
   "execution_count": 70,
   "id": "3c11249c",
   "metadata": {},
   "outputs": [
    {
     "data": {
      "text/plain": [
       "array([[52, 27, 58],\n",
       "       [66, 45, 69],\n",
       "       [60, 26, 43],\n",
       "       [32, 46, 37],\n",
       "       [45, 49, 41]])"
      ]
     },
     "execution_count": 70,
     "metadata": {},
     "output_type": "execute_result"
    }
   ],
   "source": [
    "array2 = np.random.randint(20, 70, (5,3))\n",
    "array2"
   ]
  },
  {
   "cell_type": "code",
   "execution_count": 71,
   "id": "e7ee5f03",
   "metadata": {},
   "outputs": [
    {
     "data": {
      "text/plain": [
       "26"
      ]
     },
     "execution_count": 71,
     "metadata": {},
     "output_type": "execute_result"
    }
   ],
   "source": [
    "array2.min()"
   ]
  },
  {
   "cell_type": "code",
   "execution_count": 72,
   "id": "cc371c36",
   "metadata": {},
   "outputs": [
    {
     "data": {
      "text/plain": [
       "7"
      ]
     },
     "execution_count": 72,
     "metadata": {},
     "output_type": "execute_result"
    }
   ],
   "source": [
    "array2.argmin()"
   ]
  },
  {
   "cell_type": "markdown",
   "id": "c4fe42ad",
   "metadata": {},
   "source": [
    "# Concatenating NumPy Arrays: concatenate() method"
   ]
  },
  {
   "cell_type": "code",
   "execution_count": 73,
   "id": "2c1c4794",
   "metadata": {},
   "outputs": [],
   "source": [
    "array1 = np.array([1, 2, 3, 4, 5])\n",
    "array2 = np.array([6, 7, 8, 9, 10])"
   ]
  },
  {
   "cell_type": "code",
   "execution_count": 74,
   "id": "567345eb",
   "metadata": {},
   "outputs": [
    {
     "data": {
      "text/plain": [
       "array([ 1,  2,  3,  4,  5,  6,  7,  8,  9, 10])"
      ]
     },
     "execution_count": 74,
     "metadata": {},
     "output_type": "execute_result"
    }
   ],
   "source": [
    "np.concatenate([array1, array2])"
   ]
  },
  {
   "cell_type": "code",
   "execution_count": 75,
   "id": "bb9a8418",
   "metadata": {},
   "outputs": [
    {
     "data": {
      "text/plain": [
       "array([[1, 2, 3],\n",
       "       [4, 5, 6]])"
      ]
     },
     "execution_count": 75,
     "metadata": {},
     "output_type": "execute_result"
    }
   ],
   "source": [
    "array3 = np.arange(1, 7).reshape((2, 3))\n",
    "array3"
   ]
  },
  {
   "cell_type": "code",
   "execution_count": 76,
   "id": "bc43d6e6",
   "metadata": {},
   "outputs": [
    {
     "data": {
      "text/plain": [
       "array([[ 7,  8,  9],\n",
       "       [10, 11, 12]])"
      ]
     },
     "execution_count": 76,
     "metadata": {},
     "output_type": "execute_result"
    }
   ],
   "source": [
    "array4 = np.array([[7, 8, 9], [10, 11, 12]])\n",
    "array4"
   ]
  },
  {
   "cell_type": "code",
   "execution_count": 77,
   "id": "8b750cf7",
   "metadata": {},
   "outputs": [
    {
     "data": {
      "text/plain": [
       "array([[ 1,  2,  3],\n",
       "       [ 4,  5,  6],\n",
       "       [ 7,  8,  9],\n",
       "       [10, 11, 12]])"
      ]
     },
     "execution_count": 77,
     "metadata": {},
     "output_type": "execute_result"
    }
   ],
   "source": [
    "np.concatenate([array3, array4])"
   ]
  },
  {
   "cell_type": "code",
   "execution_count": 78,
   "id": "7fefbcdb",
   "metadata": {},
   "outputs": [
    {
     "data": {
      "text/plain": [
       "array([[ 1,  2,  3,  7,  8,  9],\n",
       "       [ 4,  5,  6, 10, 11, 12]])"
      ]
     },
     "execution_count": 78,
     "metadata": {},
     "output_type": "execute_result"
    }
   ],
   "source": [
    "np.concatenate([array3, array4], axis = 1)"
   ]
  },
  {
   "cell_type": "code",
   "execution_count": 79,
   "id": "122d8cc2",
   "metadata": {},
   "outputs": [
    {
     "ename": "ValueError",
     "evalue": "all the input arrays must have same number of dimensions, but the array at index 0 has 1 dimension(s) and the array at index 1 has 2 dimension(s)",
     "output_type": "error",
     "traceback": [
      "\u001b[1;31m---------------------------------------------------------------------------\u001b[0m",
      "\u001b[1;31mValueError\u001b[0m                                Traceback (most recent call last)",
      "Cell \u001b[1;32mIn[79], line 1\u001b[0m\n\u001b[1;32m----> 1\u001b[0m np\u001b[38;5;241m.\u001b[39mconcatenate([array1, array3])\n",
      "File \u001b[1;32m<__array_function__ internals>:200\u001b[0m, in \u001b[0;36mconcatenate\u001b[1;34m(*args, **kwargs)\u001b[0m\n",
      "\u001b[1;31mValueError\u001b[0m: all the input arrays must have same number of dimensions, but the array at index 0 has 1 dimension(s) and the array at index 1 has 2 dimension(s)"
     ]
    }
   ],
   "source": [
    "np.concatenate([array1, array3])"
   ]
  },
  {
   "cell_type": "code",
   "execution_count": 80,
   "id": "6c379455",
   "metadata": {},
   "outputs": [
    {
     "data": {
      "text/plain": [
       "array([[ 1,  2],\n",
       "       [ 3,  4],\n",
       "       [ 5,  6],\n",
       "       [ 7,  8],\n",
       "       [ 9, 10]])"
      ]
     },
     "execution_count": 80,
     "metadata": {},
     "output_type": "execute_result"
    }
   ],
   "source": [
    "array5 = np.arange(1, 11). reshape(5, 2)\n",
    "array5"
   ]
  },
  {
   "cell_type": "code",
   "execution_count": 81,
   "id": "d81d6f48",
   "metadata": {},
   "outputs": [
    {
     "ename": "ValueError",
     "evalue": "all the input array dimensions except for the concatenation axis must match exactly, but along dimension 1, the array at index 0 has size 3 and the array at index 1 has size 2",
     "output_type": "error",
     "traceback": [
      "\u001b[1;31m---------------------------------------------------------------------------\u001b[0m",
      "\u001b[1;31mValueError\u001b[0m                                Traceback (most recent call last)",
      "Cell \u001b[1;32mIn[81], line 1\u001b[0m\n\u001b[1;32m----> 1\u001b[0m np\u001b[38;5;241m.\u001b[39mconcatenate([array3, array5])\n",
      "File \u001b[1;32m<__array_function__ internals>:200\u001b[0m, in \u001b[0;36mconcatenate\u001b[1;34m(*args, **kwargs)\u001b[0m\n",
      "\u001b[1;31mValueError\u001b[0m: all the input array dimensions except for the concatenation axis must match exactly, but along dimension 1, the array at index 0 has size 3 and the array at index 1 has size 2"
     ]
    }
   ],
   "source": [
    "np.concatenate([array3, array5])"
   ]
  },
  {
   "cell_type": "markdown",
   "id": "654f1edf",
   "metadata": {},
   "source": [
    "# Splitting One-Dimensional NumPy Array: The split() method"
   ]
  },
  {
   "cell_type": "code",
   "execution_count": 82,
   "id": "8bbdd738",
   "metadata": {},
   "outputs": [
    {
     "data": {
      "text/plain": [
       "array([ 1,  3,  5, 50, 50,  2,  4,  6])"
      ]
     },
     "execution_count": 82,
     "metadata": {},
     "output_type": "execute_result"
    }
   ],
   "source": [
    "array = np.array([1, 3, 5, 50, 50 , 2, 4, 6])\n",
    "array"
   ]
  },
  {
   "cell_type": "code",
   "execution_count": 83,
   "id": "a182266f",
   "metadata": {},
   "outputs": [
    {
     "data": {
      "text/plain": [
       "[array([1, 3, 5]), array([50, 50]), array([2, 4, 6])]"
      ]
     },
     "execution_count": 83,
     "metadata": {},
     "output_type": "execute_result"
    }
   ],
   "source": [
    "np.split(array, [3, 5])"
   ]
  },
  {
   "cell_type": "code",
   "execution_count": 84,
   "id": "5ef9545a",
   "metadata": {},
   "outputs": [],
   "source": [
    "x, y, z = np.split(array, [3, 5])"
   ]
  },
  {
   "cell_type": "code",
   "execution_count": 85,
   "id": "ad0b82cd",
   "metadata": {},
   "outputs": [
    {
     "data": {
      "text/plain": [
       "array([1, 3, 5])"
      ]
     },
     "execution_count": 85,
     "metadata": {},
     "output_type": "execute_result"
    }
   ],
   "source": [
    "x"
   ]
  },
  {
   "cell_type": "code",
   "execution_count": 86,
   "id": "fa4fa660",
   "metadata": {},
   "outputs": [
    {
     "data": {
      "text/plain": [
       "array([50, 50])"
      ]
     },
     "execution_count": 86,
     "metadata": {},
     "output_type": "execute_result"
    }
   ],
   "source": [
    "y"
   ]
  },
  {
   "cell_type": "code",
   "execution_count": 87,
   "id": "62bcd6aa",
   "metadata": {},
   "outputs": [
    {
     "data": {
      "text/plain": [
       "array([2, 4, 6])"
      ]
     },
     "execution_count": 87,
     "metadata": {},
     "output_type": "execute_result"
    }
   ],
   "source": [
    "z"
   ]
  },
  {
   "cell_type": "code",
   "execution_count": 88,
   "id": "724a2598",
   "metadata": {},
   "outputs": [
    {
     "data": {
      "text/plain": [
       "[array([1, 3]), array([ 5, 50]), array([50,  2]), array([4, 6])]"
      ]
     },
     "execution_count": 88,
     "metadata": {},
     "output_type": "execute_result"
    }
   ],
   "source": [
    "np.split(array, 4)"
   ]
  },
  {
   "cell_type": "code",
   "execution_count": 89,
   "id": "b2128f2a",
   "metadata": {},
   "outputs": [
    {
     "ename": "ValueError",
     "evalue": "array split does not result in an equal division",
     "output_type": "error",
     "traceback": [
      "\u001b[1;31m---------------------------------------------------------------------------\u001b[0m",
      "\u001b[1;31mValueError\u001b[0m                                Traceback (most recent call last)",
      "Cell \u001b[1;32mIn[89], line 1\u001b[0m\n\u001b[1;32m----> 1\u001b[0m np\u001b[38;5;241m.\u001b[39msplit(array, \u001b[38;5;241m5\u001b[39m)\n",
      "File \u001b[1;32m<__array_function__ internals>:200\u001b[0m, in \u001b[0;36msplit\u001b[1;34m(*args, **kwargs)\u001b[0m\n",
      "File \u001b[1;32mC:\\ProgramData\\anaconda3\\Lib\\site-packages\\numpy\\lib\\shape_base.py:872\u001b[0m, in \u001b[0;36msplit\u001b[1;34m(ary, indices_or_sections, axis)\u001b[0m\n\u001b[0;32m    870\u001b[0m     N \u001b[38;5;241m=\u001b[39m ary\u001b[38;5;241m.\u001b[39mshape[axis]\n\u001b[0;32m    871\u001b[0m     \u001b[38;5;28;01mif\u001b[39;00m N \u001b[38;5;241m%\u001b[39m sections:\n\u001b[1;32m--> 872\u001b[0m         \u001b[38;5;28;01mraise\u001b[39;00m \u001b[38;5;167;01mValueError\u001b[39;00m(\n\u001b[0;32m    873\u001b[0m             \u001b[38;5;124m'\u001b[39m\u001b[38;5;124marray split does not result in an equal division\u001b[39m\u001b[38;5;124m'\u001b[39m) \u001b[38;5;28;01mfrom\u001b[39;00m \u001b[38;5;28;01mNone\u001b[39;00m\n\u001b[0;32m    874\u001b[0m \u001b[38;5;28;01mreturn\u001b[39;00m array_split(ary, indices_or_sections, axis)\n",
      "\u001b[1;31mValueError\u001b[0m: array split does not result in an equal division"
     ]
    }
   ],
   "source": [
    "np.split(array, 5)"
   ]
  },
  {
   "cell_type": "markdown",
   "id": "7f919234",
   "metadata": {},
   "source": [
    "# Splitting Two-Dimensional NumPy Array: The split(), vsplit(), hsplit() method"
   ]
  },
  {
   "cell_type": "code",
   "execution_count": null,
   "id": "64b8a734",
   "metadata": {},
   "outputs": [],
   "source": [
    "array = np.arange(20).reshape(5, 4)\n",
    "array"
   ]
  },
  {
   "cell_type": "code",
   "execution_count": 90,
   "id": "a9265f34",
   "metadata": {},
   "outputs": [
    {
     "data": {
      "text/plain": [
       "[array([1]), array([3, 5]), array([50, 50,  2,  4,  6])]"
      ]
     },
     "execution_count": 90,
     "metadata": {},
     "output_type": "execute_result"
    }
   ],
   "source": [
    "np.split(array, [1, 3])"
   ]
  },
  {
   "cell_type": "code",
   "execution_count": 91,
   "id": "0d8d2b63",
   "metadata": {},
   "outputs": [],
   "source": [
    "x, y, z = np.split(array, [1, 3])"
   ]
  },
  {
   "cell_type": "code",
   "execution_count": 92,
   "id": "9d5c2a0b",
   "metadata": {},
   "outputs": [
    {
     "data": {
      "text/plain": [
       "array([1])"
      ]
     },
     "execution_count": 92,
     "metadata": {},
     "output_type": "execute_result"
    }
   ],
   "source": [
    "x"
   ]
  },
  {
   "cell_type": "code",
   "execution_count": 93,
   "id": "d668885d",
   "metadata": {},
   "outputs": [
    {
     "data": {
      "text/plain": [
       "array([3, 5])"
      ]
     },
     "execution_count": 93,
     "metadata": {},
     "output_type": "execute_result"
    }
   ],
   "source": [
    "y"
   ]
  },
  {
   "cell_type": "code",
   "execution_count": 94,
   "id": "c4f2f0d4",
   "metadata": {},
   "outputs": [
    {
     "data": {
      "text/plain": [
       "array([50, 50,  2,  4,  6])"
      ]
     },
     "execution_count": 94,
     "metadata": {},
     "output_type": "execute_result"
    }
   ],
   "source": [
    "z"
   ]
  },
  {
   "cell_type": "code",
   "execution_count": 95,
   "id": "ede85477",
   "metadata": {},
   "outputs": [
    {
     "ename": "IndexError",
     "evalue": "tuple index out of range",
     "output_type": "error",
     "traceback": [
      "\u001b[1;31m---------------------------------------------------------------------------\u001b[0m",
      "\u001b[1;31mIndexError\u001b[0m                                Traceback (most recent call last)",
      "Cell \u001b[1;32mIn[95], line 1\u001b[0m\n\u001b[1;32m----> 1\u001b[0m np\u001b[38;5;241m.\u001b[39msplit(array, [\u001b[38;5;241m1\u001b[39m, \u001b[38;5;241m3\u001b[39m], axis \u001b[38;5;241m=\u001b[39m \u001b[38;5;241m1\u001b[39m)\n",
      "File \u001b[1;32m<__array_function__ internals>:200\u001b[0m, in \u001b[0;36msplit\u001b[1;34m(*args, **kwargs)\u001b[0m\n",
      "File \u001b[1;32mC:\\ProgramData\\anaconda3\\Lib\\site-packages\\numpy\\lib\\shape_base.py:874\u001b[0m, in \u001b[0;36msplit\u001b[1;34m(ary, indices_or_sections, axis)\u001b[0m\n\u001b[0;32m    871\u001b[0m     \u001b[38;5;28;01mif\u001b[39;00m N \u001b[38;5;241m%\u001b[39m sections:\n\u001b[0;32m    872\u001b[0m         \u001b[38;5;28;01mraise\u001b[39;00m \u001b[38;5;167;01mValueError\u001b[39;00m(\n\u001b[0;32m    873\u001b[0m             \u001b[38;5;124m'\u001b[39m\u001b[38;5;124marray split does not result in an equal division\u001b[39m\u001b[38;5;124m'\u001b[39m) \u001b[38;5;28;01mfrom\u001b[39;00m \u001b[38;5;28;01mNone\u001b[39;00m\n\u001b[1;32m--> 874\u001b[0m \u001b[38;5;28;01mreturn\u001b[39;00m array_split(ary, indices_or_sections, axis)\n",
      "File \u001b[1;32m<__array_function__ internals>:200\u001b[0m, in \u001b[0;36marray_split\u001b[1;34m(*args, **kwargs)\u001b[0m\n",
      "File \u001b[1;32mC:\\ProgramData\\anaconda3\\Lib\\site-packages\\numpy\\lib\\shape_base.py:767\u001b[0m, in \u001b[0;36marray_split\u001b[1;34m(ary, indices_or_sections, axis)\u001b[0m\n\u001b[0;32m    741\u001b[0m \u001b[38;5;250m\u001b[39m\u001b[38;5;124;03m\"\"\"\u001b[39;00m\n\u001b[0;32m    742\u001b[0m \u001b[38;5;124;03mSplit an array into multiple sub-arrays.\u001b[39;00m\n\u001b[0;32m    743\u001b[0m \n\u001b[1;32m   (...)\u001b[0m\n\u001b[0;32m    764\u001b[0m \n\u001b[0;32m    765\u001b[0m \u001b[38;5;124;03m\"\"\"\u001b[39;00m\n\u001b[0;32m    766\u001b[0m \u001b[38;5;28;01mtry\u001b[39;00m:\n\u001b[1;32m--> 767\u001b[0m     Ntotal \u001b[38;5;241m=\u001b[39m ary\u001b[38;5;241m.\u001b[39mshape[axis]\n\u001b[0;32m    768\u001b[0m \u001b[38;5;28;01mexcept\u001b[39;00m \u001b[38;5;167;01mAttributeError\u001b[39;00m:\n\u001b[0;32m    769\u001b[0m     Ntotal \u001b[38;5;241m=\u001b[39m \u001b[38;5;28mlen\u001b[39m(ary)\n",
      "\u001b[1;31mIndexError\u001b[0m: tuple index out of range"
     ]
    }
   ],
   "source": [
    "np.split(array, [1, 3], axis = 1)"
   ]
  },
  {
   "cell_type": "code",
   "execution_count": null,
   "id": "a6753567",
   "metadata": {},
   "outputs": [],
   "source": [
    "# hsplit()\n",
    "array"
   ]
  },
  {
   "cell_type": "code",
   "execution_count": 96,
   "id": "8fd3d1a6",
   "metadata": {},
   "outputs": [
    {
     "data": {
      "text/plain": [
       "[array([1, 3]), array([ 5, 50]), array([50,  2]), array([4, 6])]"
      ]
     },
     "execution_count": 96,
     "metadata": {},
     "output_type": "execute_result"
    }
   ],
   "source": [
    "np.hsplit(array, 4)"
   ]
  },
  {
   "cell_type": "code",
   "execution_count": 97,
   "id": "d2a05fcd",
   "metadata": {},
   "outputs": [
    {
     "ename": "ValueError",
     "evalue": "vsplit only works on arrays of 2 or more dimensions",
     "output_type": "error",
     "traceback": [
      "\u001b[1;31m---------------------------------------------------------------------------\u001b[0m",
      "\u001b[1;31mValueError\u001b[0m                                Traceback (most recent call last)",
      "Cell \u001b[1;32mIn[97], line 1\u001b[0m\n\u001b[1;32m----> 1\u001b[0m np\u001b[38;5;241m.\u001b[39mvsplit(array, \u001b[38;5;241m5\u001b[39m)\n",
      "File \u001b[1;32m<__array_function__ internals>:200\u001b[0m, in \u001b[0;36mvsplit\u001b[1;34m(*args, **kwargs)\u001b[0m\n",
      "File \u001b[1;32mC:\\ProgramData\\anaconda3\\Lib\\site-packages\\numpy\\lib\\shape_base.py:996\u001b[0m, in \u001b[0;36mvsplit\u001b[1;34m(ary, indices_or_sections)\u001b[0m\n\u001b[0;32m    953\u001b[0m \u001b[38;5;250m\u001b[39m\u001b[38;5;124;03m\"\"\"\u001b[39;00m\n\u001b[0;32m    954\u001b[0m \u001b[38;5;124;03mSplit an array into multiple sub-arrays vertically (row-wise).\u001b[39;00m\n\u001b[0;32m    955\u001b[0m \n\u001b[1;32m   (...)\u001b[0m\n\u001b[0;32m    993\u001b[0m \n\u001b[0;32m    994\u001b[0m \u001b[38;5;124;03m\"\"\"\u001b[39;00m\n\u001b[0;32m    995\u001b[0m \u001b[38;5;28;01mif\u001b[39;00m _nx\u001b[38;5;241m.\u001b[39mndim(ary) \u001b[38;5;241m<\u001b[39m \u001b[38;5;241m2\u001b[39m:\n\u001b[1;32m--> 996\u001b[0m     \u001b[38;5;28;01mraise\u001b[39;00m \u001b[38;5;167;01mValueError\u001b[39;00m(\u001b[38;5;124m'\u001b[39m\u001b[38;5;124mvsplit only works on arrays of 2 or more dimensions\u001b[39m\u001b[38;5;124m'\u001b[39m)\n\u001b[0;32m    997\u001b[0m \u001b[38;5;28;01mreturn\u001b[39;00m split(ary, indices_or_sections, \u001b[38;5;241m0\u001b[39m)\n",
      "\u001b[1;31mValueError\u001b[0m: vsplit only works on arrays of 2 or more dimensions"
     ]
    }
   ],
   "source": [
    "np.vsplit(array, 5)"
   ]
  },
  {
   "cell_type": "markdown",
   "id": "65ee46b1",
   "metadata": {},
   "source": [
    "# Sorting NumPy Arrays: sort() method"
   ]
  },
  {
   "cell_type": "code",
   "execution_count": 98,
   "id": "c4ec52ce",
   "metadata": {},
   "outputs": [
    {
     "data": {
      "text/plain": [
       "array([3, 5, 1, 8, 6, 2, 9])"
      ]
     },
     "execution_count": 98,
     "metadata": {},
     "output_type": "execute_result"
    }
   ],
   "source": [
    "variable = np.array([3, 5, 1, 8, 6, 2, 9])\n",
    "variable"
   ]
  },
  {
   "cell_type": "code",
   "execution_count": 99,
   "id": "2e8ebb4b",
   "metadata": {},
   "outputs": [],
   "source": [
    "variable.sort()"
   ]
  },
  {
   "cell_type": "code",
   "execution_count": 100,
   "id": "736e4922",
   "metadata": {},
   "outputs": [
    {
     "data": {
      "text/plain": [
       "array([1, 2, 3, 5, 6, 8, 9])"
      ]
     },
     "execution_count": 100,
     "metadata": {},
     "output_type": "execute_result"
    }
   ],
   "source": [
    "np.sort(variable)"
   ]
  },
  {
   "cell_type": "code",
   "execution_count": 101,
   "id": "70923d17",
   "metadata": {},
   "outputs": [
    {
     "data": {
      "text/plain": [
       "array([[26.66940159, 22.20213865, 40.10830637, 28.51936905],\n",
       "       [29.27511876, 40.67481977, 13.61790316, 30.34047156],\n",
       "       [35.44551718, 33.39338813, 29.30576763, 30.48352279],\n",
       "       [25.28241011, 10.57717825, 23.19454359, 26.46755496]])"
      ]
     },
     "execution_count": 101,
     "metadata": {},
     "output_type": "execute_result"
    }
   ],
   "source": [
    "example = np.random.normal(30, 10, (4,4))\n",
    "example"
   ]
  },
  {
   "cell_type": "code",
   "execution_count": 102,
   "id": "80a6e92f",
   "metadata": {},
   "outputs": [
    {
     "data": {
      "text/plain": [
       "array([[22.20213865, 26.66940159, 28.51936905, 40.10830637],\n",
       "       [13.61790316, 29.27511876, 30.34047156, 40.67481977],\n",
       "       [29.30576763, 30.48352279, 33.39338813, 35.44551718],\n",
       "       [10.57717825, 23.19454359, 25.28241011, 26.46755496]])"
      ]
     },
     "execution_count": 102,
     "metadata": {},
     "output_type": "execute_result"
    }
   ],
   "source": [
    "np.sort(example)"
   ]
  },
  {
   "cell_type": "code",
   "execution_count": 103,
   "id": "baa359a2",
   "metadata": {},
   "outputs": [
    {
     "data": {
      "text/plain": [
       "array([[25.28241011, 10.57717825, 13.61790316, 26.46755496],\n",
       "       [26.66940159, 22.20213865, 23.19454359, 28.51936905],\n",
       "       [29.27511876, 33.39338813, 29.30576763, 30.34047156],\n",
       "       [35.44551718, 40.67481977, 40.10830637, 30.48352279]])"
      ]
     },
     "execution_count": 103,
     "metadata": {},
     "output_type": "execute_result"
    }
   ],
   "source": [
    "np.sort(example, axis = 0)"
   ]
  },
  {
   "cell_type": "markdown",
   "id": "e407f232",
   "metadata": {},
   "source": [
    "# Indexing NumPy Arrays"
   ]
  },
  {
   "cell_type": "code",
   "execution_count": 104,
   "id": "085f89fc",
   "metadata": {},
   "outputs": [
    {
     "data": {
      "text/plain": [
       "array([ 0,  1,  2,  3,  4,  5,  6,  7,  8,  9, 10])"
      ]
     },
     "execution_count": 104,
     "metadata": {},
     "output_type": "execute_result"
    }
   ],
   "source": [
    "array = np.arange(0, 11)\n",
    "array"
   ]
  },
  {
   "cell_type": "code",
   "execution_count": 105,
   "id": "38519b6a",
   "metadata": {},
   "outputs": [
    {
     "data": {
      "text/plain": [
       "4"
      ]
     },
     "execution_count": 105,
     "metadata": {},
     "output_type": "execute_result"
    }
   ],
   "source": [
    "array[4]"
   ]
  },
  {
   "cell_type": "code",
   "execution_count": 106,
   "id": "eae5c0ea",
   "metadata": {},
   "outputs": [
    {
     "data": {
      "text/plain": [
       "9"
      ]
     },
     "execution_count": 106,
     "metadata": {},
     "output_type": "execute_result"
    }
   ],
   "source": [
    "array[-2]"
   ]
  },
  {
   "cell_type": "code",
   "execution_count": 107,
   "id": "c45896be",
   "metadata": {},
   "outputs": [
    {
     "data": {
      "text/plain": [
       "array([[ 5, 10, 15],\n",
       "       [20, 25, 30],\n",
       "       [35, 40, 45]])"
      ]
     },
     "execution_count": 107,
     "metadata": {},
     "output_type": "execute_result"
    }
   ],
   "source": [
    "variable = np.array([[5, 10, 15],\n",
    "                    [20, 25, 30],\n",
    "                    [35, 40, 45]])\n",
    "variable"
   ]
  },
  {
   "cell_type": "code",
   "execution_count": 108,
   "id": "5b93e459",
   "metadata": {},
   "outputs": [
    {
     "data": {
      "text/plain": [
       "5"
      ]
     },
     "execution_count": 108,
     "metadata": {},
     "output_type": "execute_result"
    }
   ],
   "source": [
    "variable[0, 0]"
   ]
  },
  {
   "cell_type": "code",
   "execution_count": 109,
   "id": "8fe75514",
   "metadata": {},
   "outputs": [
    {
     "data": {
      "text/plain": [
       "40"
      ]
     },
     "execution_count": 109,
     "metadata": {},
     "output_type": "execute_result"
    }
   ],
   "source": [
    "variable[2, 1]"
   ]
  },
  {
   "cell_type": "code",
   "execution_count": 110,
   "id": "0e7ccd72",
   "metadata": {},
   "outputs": [
    {
     "data": {
      "text/plain": [
       "35"
      ]
     },
     "execution_count": 110,
     "metadata": {},
     "output_type": "execute_result"
    }
   ],
   "source": [
    "variable[-1, -3]"
   ]
  },
  {
   "cell_type": "markdown",
   "id": "d8fc39cd",
   "metadata": {},
   "source": [
    "# Slicing One-Dimensional NumPy Array"
   ]
  },
  {
   "cell_type": "code",
   "execution_count": 111,
   "id": "b1f088b7",
   "metadata": {},
   "outputs": [
    {
     "data": {
      "text/plain": [
       "array([10, 11, 12, 13, 14, 15, 16, 17, 18, 19])"
      ]
     },
     "execution_count": 111,
     "metadata": {},
     "output_type": "execute_result"
    }
   ],
   "source": [
    "example = np.arange(10, 20)\n",
    "example"
   ]
  },
  {
   "cell_type": "code",
   "execution_count": 112,
   "id": "35d66fa7",
   "metadata": {},
   "outputs": [
    {
     "data": {
      "text/plain": [
       "array([12, 13, 14, 15])"
      ]
     },
     "execution_count": 112,
     "metadata": {},
     "output_type": "execute_result"
    }
   ],
   "source": [
    "example[2:6]"
   ]
  },
  {
   "cell_type": "code",
   "execution_count": 113,
   "id": "bb3fef83",
   "metadata": {},
   "outputs": [
    {
     "data": {
      "text/plain": [
       "array([13, 15, 17, 19])"
      ]
     },
     "execution_count": 113,
     "metadata": {},
     "output_type": "execute_result"
    }
   ],
   "source": [
    "example[3::2]"
   ]
  },
  {
   "cell_type": "code",
   "execution_count": 114,
   "id": "37f5b6d4",
   "metadata": {},
   "outputs": [
    {
     "data": {
      "text/plain": [
       "array([10, 13, 16])"
      ]
     },
     "execution_count": 114,
     "metadata": {},
     "output_type": "execute_result"
    }
   ],
   "source": [
    "example[:7:3]"
   ]
  },
  {
   "cell_type": "markdown",
   "id": "08e8a1c0",
   "metadata": {},
   "source": [
    "# Slicing Two-Dimensional NumPy Array"
   ]
  },
  {
   "cell_type": "code",
   "execution_count": 115,
   "id": "e0a543a1",
   "metadata": {
    "scrolled": true
   },
   "outputs": [
    {
     "data": {
      "text/plain": [
       "array([[ 0,  1,  2,  3,  4],\n",
       "       [ 5,  6,  7,  8,  9],\n",
       "       [10, 11, 12, 13, 14],\n",
       "       [15, 16, 17, 18, 19],\n",
       "       [20, 21, 22, 23, 24],\n",
       "       [25, 26, 27, 28, 29]])"
      ]
     },
     "execution_count": 115,
     "metadata": {},
     "output_type": "execute_result"
    }
   ],
   "source": [
    "array = np.arange(30).reshape(6, 5)\n",
    "array"
   ]
  },
  {
   "cell_type": "code",
   "execution_count": 116,
   "id": "204775db",
   "metadata": {},
   "outputs": [
    {
     "data": {
      "text/plain": [
       "array([10, 11, 12, 13, 14])"
      ]
     },
     "execution_count": 116,
     "metadata": {},
     "output_type": "execute_result"
    }
   ],
   "source": [
    "array[2, :]"
   ]
  },
  {
   "cell_type": "code",
   "execution_count": 117,
   "id": "2ef99fde",
   "metadata": {},
   "outputs": [
    {
     "data": {
      "text/plain": [
       "array([10, 11, 12, 13, 14])"
      ]
     },
     "execution_count": 117,
     "metadata": {},
     "output_type": "execute_result"
    }
   ],
   "source": [
    "array[2]"
   ]
  },
  {
   "cell_type": "code",
   "execution_count": 118,
   "id": "8a6743d1",
   "metadata": {},
   "outputs": [
    {
     "data": {
      "text/plain": [
       "array([0, 1, 2, 3, 4])"
      ]
     },
     "execution_count": 118,
     "metadata": {},
     "output_type": "execute_result"
    }
   ],
   "source": [
    "array[0]"
   ]
  },
  {
   "cell_type": "code",
   "execution_count": 119,
   "id": "63f1392e",
   "metadata": {},
   "outputs": [
    {
     "data": {
      "text/plain": [
       "array([ 2,  7, 12, 17, 22, 27])"
      ]
     },
     "execution_count": 119,
     "metadata": {},
     "output_type": "execute_result"
    }
   ],
   "source": [
    "array[:,2]"
   ]
  },
  {
   "cell_type": "code",
   "execution_count": 120,
   "id": "a3ec0eac",
   "metadata": {},
   "outputs": [
    {
     "data": {
      "text/plain": [
       "array([ 0,  5, 10, 15, 20, 25])"
      ]
     },
     "execution_count": 120,
     "metadata": {},
     "output_type": "execute_result"
    }
   ],
   "source": [
    "array[:,0]"
   ]
  },
  {
   "cell_type": "code",
   "execution_count": 121,
   "id": "7b0af333",
   "metadata": {},
   "outputs": [
    {
     "data": {
      "text/plain": [
       "array([[ 0,  1,  2,  3,  4],\n",
       "       [ 5,  6,  7,  8,  9],\n",
       "       [10, 11, 12, 13, 14],\n",
       "       [15, 16, 17, 18, 19],\n",
       "       [20, 21, 22, 23, 24],\n",
       "       [25, 26, 27, 28, 29]])"
      ]
     },
     "execution_count": 121,
     "metadata": {},
     "output_type": "execute_result"
    }
   ],
   "source": [
    "array"
   ]
  },
  {
   "cell_type": "code",
   "execution_count": 122,
   "id": "1cf8655b",
   "metadata": {},
   "outputs": [
    {
     "data": {
      "text/plain": [
       "array([[ 5,  6,  7],\n",
       "       [10, 11, 12],\n",
       "       [15, 16, 17]])"
      ]
     },
     "execution_count": 122,
     "metadata": {},
     "output_type": "execute_result"
    }
   ],
   "source": [
    "array[1:4, 0:3]"
   ]
  },
  {
   "cell_type": "code",
   "execution_count": 123,
   "id": "8c1e4ab3",
   "metadata": {},
   "outputs": [
    {
     "data": {
      "text/plain": [
       "array([[ 0,  2,  4],\n",
       "       [10, 12, 14],\n",
       "       [20, 22, 24]])"
      ]
     },
     "execution_count": 123,
     "metadata": {},
     "output_type": "execute_result"
    }
   ],
   "source": [
    "array[0::2, 0::2]"
   ]
  },
  {
   "cell_type": "code",
   "execution_count": null,
   "id": "4cc77188",
   "metadata": {},
   "outputs": [],
   "source": []
  }
 ],
 "metadata": {
  "kernelspec": {
   "display_name": "Python 3 (ipykernel)",
   "language": "python",
   "name": "python3"
  },
  "language_info": {
   "codemirror_mode": {
    "name": "ipython",
    "version": 3
   },
   "file_extension": ".py",
   "mimetype": "text/x-python",
   "name": "python",
   "nbconvert_exporter": "python",
   "pygments_lexer": "ipython3",
   "version": "3.11.5"
  }
 },
 "nbformat": 4,
 "nbformat_minor": 5
}
