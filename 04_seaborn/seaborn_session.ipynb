{
 "cells": [
  {
   "cell_type": "markdown",
   "id": "2db51f85",
   "metadata": {},
   "source": [
    "# Controlling Figure Aesthetics in Seaborn"
   ]
  },
  {
   "cell_type": "markdown",
   "id": "7724b76c",
   "metadata": {},
   "source": [
    "# Example in Seaborn"
   ]
  },
  {
   "cell_type": "markdown",
   "id": "4756ff9e",
   "metadata": {},
   "source": [
    "# Color Palettes in Seaborn"
   ]
  },
  {
   "cell_type": "markdown",
   "id": "9318c027",
   "metadata": {},
   "source": [
    "# Basic Plots in Seaborn"
   ]
  },
  {
   "cell_type": "code",
   "execution_count": null,
   "id": "16347ebd",
   "metadata": {},
   "outputs": [],
   "source": []
  },
  {
   "cell_type": "code",
   "execution_count": null,
   "id": "2a4b7a91",
   "metadata": {},
   "outputs": [],
   "source": []
  },
  {
   "cell_type": "code",
   "execution_count": null,
   "id": "76980175",
   "metadata": {},
   "outputs": [],
   "source": []
  },
  {
   "cell_type": "code",
   "execution_count": null,
   "id": "66fe34e6",
   "metadata": {},
   "outputs": [],
   "source": []
  },
  {
   "cell_type": "code",
   "execution_count": null,
   "id": "90292312",
   "metadata": {},
   "outputs": [],
   "source": []
  },
  {
   "cell_type": "code",
   "execution_count": null,
   "id": "963729c5",
   "metadata": {},
   "outputs": [],
   "source": []
  },
  {
   "cell_type": "code",
   "execution_count": null,
   "id": "80eda37e",
   "metadata": {},
   "outputs": [],
   "source": []
  },
  {
   "cell_type": "code",
   "execution_count": null,
   "id": "ef0c1ac6",
   "metadata": {},
   "outputs": [],
   "source": []
  },
  {
   "cell_type": "code",
   "execution_count": null,
   "id": "4e3fc9f6",
   "metadata": {},
   "outputs": [],
   "source": []
  },
  {
   "cell_type": "code",
   "execution_count": null,
   "id": "010218a8",
   "metadata": {},
   "outputs": [],
   "source": []
  },
  {
   "cell_type": "code",
   "execution_count": null,
   "id": "8ebf0da5",
   "metadata": {},
   "outputs": [],
   "source": []
  },
  {
   "cell_type": "code",
   "execution_count": null,
   "id": "0a9c14f2",
   "metadata": {},
   "outputs": [],
   "source": []
  },
  {
   "cell_type": "code",
   "execution_count": null,
   "id": "d996a009",
   "metadata": {},
   "outputs": [],
   "source": []
  },
  {
   "cell_type": "code",
   "execution_count": null,
   "id": "3490420b",
   "metadata": {},
   "outputs": [],
   "source": []
  },
  {
   "cell_type": "code",
   "execution_count": null,
   "id": "520e9feb",
   "metadata": {},
   "outputs": [],
   "source": []
  },
  {
   "cell_type": "code",
   "execution_count": null,
   "id": "8c6ec245",
   "metadata": {},
   "outputs": [],
   "source": []
  },
  {
   "cell_type": "code",
   "execution_count": null,
   "id": "7a121395",
   "metadata": {},
   "outputs": [],
   "source": [
    "example_1_data = pd.read_csv(\"movie_scores.csv\")\n",
    "movie_score = pd.DataFrame({\"Movie Title\": list(example_1_data[\"MovieTitle\"]) * 2,\n",
    "                           \"Score\": list(example_1_data[\"AudienceScore\"]) + \n",
    "                            list(example_1_data[\"Tomatometer\"]),\n",
    "                           \"Type\": [\"AudienceScore\"] * len(example_1_data[\"AudienceScore\"])\n",
    "                           + [\"Tomatometer\"] * len(example_1_data[\"Tomatometer\"])})\n",
    "sns.set()\n",
    "plt.figure(figsize=(10, 5), dpi=300)\n",
    "ax = sns.barplot(x=\"Movie Title\", y=\"Score\", hue=\"Type\", data = movie_score)\n",
    "plt.xticks(rotation=10)\n",
    "plt.title(\"Movies Scores Comparison\")\n",
    "plt.xlabel(\"Movies\")\n",
    "plt.ylabel(\"Scores\")\n",
    "plt.show()"
   ]
  },
  {
   "cell_type": "code",
   "execution_count": null,
   "id": "c3581b01",
   "metadata": {},
   "outputs": [],
   "source": []
  }
 ],
 "metadata": {
  "kernelspec": {
   "display_name": "Python 3 (ipykernel)",
   "language": "python",
   "name": "python3"
  },
  "language_info": {
   "codemirror_mode": {
    "name": "ipython",
    "version": 3
   },
   "file_extension": ".py",
   "mimetype": "text/x-python",
   "name": "python",
   "nbconvert_exporter": "python",
   "pygments_lexer": "ipython3",
   "version": "3.11.5"
  }
 },
 "nbformat": 4,
 "nbformat_minor": 5
}
